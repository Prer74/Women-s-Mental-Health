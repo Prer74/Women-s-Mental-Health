{
 "cells": [
  {
   "cell_type": "code",
   "execution_count": 36,
   "id": "e11278a0-0f44-4d76-9f64-5183841b2dd3",
   "metadata": {},
   "outputs": [],
   "source": [
    "import pandas as pd\n",
    "from sklearn.preprocessing import LabelEncoder, StandardScaler\n",
    "from sklearn.feature_extraction.text import TfidfVectorizer\n",
    "from sklearn.ensemble import RandomForestClassifier\n",
    "from sklearn.linear_model import LogisticRegression\n",
    "from sklearn.tree import DecisionTreeClassifier\n",
    "from sklearn.model_selection import train_test_split\n",
    "from sklearn.metrics import accuracy_score\n",
    "import pickle\n"
   ]
  },
  {
   "cell_type": "code",
   "execution_count": 37,
   "id": "19e7185e-1b42-4a50-b8e1-787b601399b2",
   "metadata": {},
   "outputs": [],
   "source": [
    "# Load the dataset\n",
    "df = pd.read_csv('health_recommendation_combinations_with_severity_tips.csv')\n"
   ]
  },
  {
   "cell_type": "code",
   "execution_count": 38,
   "id": "b905c73f-9784-4d6b-9800-790467d86559",
   "metadata": {},
   "outputs": [
    {
     "name": "stdout",
     "output_type": "stream",
     "text": [
      "Dataset Preview:\n",
      "  Age Group Sleep Hours Work Hours Physical Activities  \\\n",
      "0     15-19          <6         <6                walk   \n",
      "1     15-19          <6         <6                walk   \n",
      "2     15-19          <6         <6                walk   \n",
      "3     15-19          <6         <6                walk   \n",
      "4     15-19          <6         <6                walk   \n",
      "\n",
      "                     Mental State Severity  \\\n",
      "0  Relationship and Family Issues     High   \n",
      "1  Relationship and Family Issues   Medium   \n",
      "2  Relationship and Family Issues      Low   \n",
      "3                 Family Dynamics     High   \n",
      "4                 Family Dynamics   Medium   \n",
      "\n",
      "                                     Recommendations  \n",
      "0  ['Communicate openly with family members.', 'C...  \n",
      "1  ['Communicate openly with family members.', 'C...  \n",
      "2  ['Communicate openly with family members.', 'C...  \n",
      "3  ['Plan family activities to strengthen bonds.'...  \n",
      "4  ['Plan family activities to strengthen bonds.'...  \n"
     ]
    }
   ],
   "source": [
    "print(\"Dataset Preview:\")\n",
    "print(df.head())"
   ]
  },
  {
   "cell_type": "code",
   "execution_count": 39,
   "id": "2e9ddece-75f6-4af6-8c64-fcafca887be1",
   "metadata": {},
   "outputs": [
    {
     "name": "stdout",
     "output_type": "stream",
     "text": [
      "\n",
      "Missing Values:\n",
      "Age Group              0\n",
      "Sleep Hours            0\n",
      "Work Hours             0\n",
      "Physical Activities    0\n",
      "Mental State           0\n",
      "Severity               0\n",
      "Recommendations        0\n",
      "dtype: int64\n"
     ]
    }
   ],
   "source": [
    "# Check for missing values in the dataset\n",
    "print(\"\\nMissing Values:\")\n",
    "print(df.isnull().sum())"
   ]
  },
  {
   "cell_type": "code",
   "execution_count": 40,
   "id": "6e07b069-b918-4fe7-bcf7-3c8036eae867",
   "metadata": {},
   "outputs": [
    {
     "name": "stdout",
     "output_type": "stream",
     "text": [
      "\n",
      "Dataset Information:\n",
      "<class 'pandas.core.frame.DataFrame'>\n",
      "RangeIndex: 3645 entries, 0 to 3644\n",
      "Data columns (total 7 columns):\n",
      " #   Column               Non-Null Count  Dtype \n",
      "---  ------               --------------  ----- \n",
      " 0   Age Group            3645 non-null   object\n",
      " 1   Sleep Hours          3645 non-null   object\n",
      " 2   Work Hours           3645 non-null   object\n",
      " 3   Physical Activities  3645 non-null   object\n",
      " 4   Mental State         3645 non-null   object\n",
      " 5   Severity             3645 non-null   object\n",
      " 6   Recommendations      3645 non-null   object\n",
      "dtypes: object(7)\n",
      "memory usage: 199.5+ KB\n"
     ]
    }
   ],
   "source": [
    "# Get basic information about the dataset (e.g., data types, number of entries)\n",
    "print(\"\\nDataset Information:\")\n",
    "df.info()\n",
    "\n"
   ]
  },
  {
   "cell_type": "code",
   "execution_count": 41,
   "id": "16f6c6fe-40c9-4f67-88a9-5f1b5c8435bf",
   "metadata": {},
   "outputs": [],
   "source": [
    "\n",
    "# Drop any rows with missing values (if any exist)\n",
    "df.dropna(inplace=True)"
   ]
  },
  {
   "cell_type": "code",
   "execution_count": 42,
   "id": "956fe3b2-88a4-406b-b860-9683c945102d",
   "metadata": {},
   "outputs": [],
   "source": [
    "# Encode categorical features\n",
    "label_encoders = {}\n",
    "for col in df.columns[:-1]:  # Exclude target column 'Recommendations'\n",
    "    if df[col].dtype == 'object':\n",
    "        le = LabelEncoder()\n",
    "        df[col] = le.fit_transform(df[col])\n",
    "        label_encoders[col] = le  # Save the encoder for future decoding\n"
   ]
  },
  {
   "cell_type": "code",
   "execution_count": 43,
   "id": "cba93e7e-ecd5-4580-8fc5-9de7c3aa1ab7",
   "metadata": {},
   "outputs": [],
   "source": [
    "# Define features (X) and target labels (y)\n",
    "X = df.drop(columns=['Recommendations'])\n",
    "y = df['Recommendations']\n"
   ]
  },
  {
   "cell_type": "code",
   "execution_count": 44,
   "id": "434f74ef-d2eb-42db-82b9-aaf61ab74570",
   "metadata": {},
   "outputs": [],
   "source": [
    "# Encode the target variable (Recommendations)\n",
    "df['Recommendations'] = LabelEncoder().fit_transform(df['Recommendations'])\n"
   ]
  },
  {
   "cell_type": "code",
   "execution_count": 45,
   "id": "8a76c635-39b2-49f6-80a8-a3108234c7fc",
   "metadata": {},
   "outputs": [],
   "source": [
    "# Splitting the dataset\n",
    "X = df.drop(columns=['Recommendations'])\n",
    "y = df['Recommendations']\n",
    "X_train, X_test, y_train, y_test = train_test_split(X, y, test_size=0.2, random_state=42)\n",
    "\n"
   ]
  },
  {
   "cell_type": "code",
   "execution_count": 46,
   "id": "faf7cade-5b33-4af3-8715-3fb51d1ad38f",
   "metadata": {},
   "outputs": [],
   "source": [
    "# Scale the features\n",
    "scaler = StandardScaler()\n",
    "X_train_scaled = scaler.fit_transform(X_train)\n",
    "X_test_scaled = scaler.transform(X_test)\n"
   ]
  },
  {
   "cell_type": "code",
   "execution_count": 47,
   "id": "d2ad68f3-c6fd-4d11-9208-5e47e8862224",
   "metadata": {},
   "outputs": [],
   "source": [
    "# Model training\n",
    "models = {\n",
    "    \"Random Forest\": RandomForestClassifier(n_estimators=100, random_state=42),\n",
    "    \"Logistic Regression\": LogisticRegression(solver='saga', max_iter=1000, random_state=42),\n",
    "    \"Decision Tree\": DecisionTreeClassifier(random_state=42)\n",
    "}\n"
   ]
  },
  {
   "cell_type": "code",
   "execution_count": 48,
   "id": "fd2ef547-de97-4a16-b7ef-b7ea2db43486",
   "metadata": {},
   "outputs": [
    {
     "name": "stdout",
     "output_type": "stream",
     "text": [
      "Random Forest Model Accuracy: 0.98\n",
      "Logistic Regression Model Accuracy: 0.89\n",
      "Decision Tree Model Accuracy: 1.00\n"
     ]
    }
   ],
   "source": [
    "# Evaluate models\n",
    "for name, model in models.items():\n",
    "    model.fit(X_train_scaled, y_train)\n",
    "    y_pred = model.predict(X_test_scaled)\n",
    "    accuracy = accuracy_score(y_test, y_pred)\n",
    "    print(f\"{name} Model Accuracy: {accuracy:.2f}\")\n",
    "\n"
   ]
  },
  {
   "cell_type": "code",
   "execution_count": null,
   "id": "cbc437c9-48e1-4321-89b4-d1c24d3f902c",
   "metadata": {},
   "outputs": [],
   "source": []
  }
 ],
 "metadata": {
  "kernelspec": {
   "display_name": "Python 3 (ipykernel)",
   "language": "python",
   "name": "python3"
  },
  "language_info": {
   "codemirror_mode": {
    "name": "ipython",
    "version": 3
   },
   "file_extension": ".py",
   "mimetype": "text/x-python",
   "name": "python",
   "nbconvert_exporter": "python",
   "pygments_lexer": "ipython3",
   "version": "3.12.4"
  }
 },
 "nbformat": 4,
 "nbformat_minor": 5
}
