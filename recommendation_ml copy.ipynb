{
 "cells": [
  {
   "cell_type": "code",
   "execution_count": 2,
   "id": "e11278a0-0f44-4d76-9f64-5183841b2dd3",
   "metadata": {},
   "outputs": [],
   "source": [
    "import pandas as pd\n",
    "from sklearn.preprocessing import LabelEncoder, StandardScaler\n",
    "from sklearn.feature_extraction.text import TfidfVectorizer\n",
    "from sklearn.ensemble import RandomForestClassifier\n",
    "from sklearn.linear_model import LogisticRegression\n",
    "from sklearn.tree import DecisionTreeClassifier\n",
    "from sklearn.model_selection import train_test_split\n",
    "from sklearn.metrics import accuracy_score\n",
    "import pickle\n",
    "import pandas as pd\n"
   ]
  },
  {
   "cell_type": "code",
   "execution_count": 3,
   "id": "19e7185e-1b42-4a50-b8e1-787b601399b2",
   "metadata": {},
   "outputs": [],
   "source": [
    "# Load the dataset\n",
    "df = pd.read_csv('health_recommendation_combinations_with_severity_tips.csv')\n"
   ]
  },
  {
   "cell_type": "code",
   "execution_count": 4,
   "id": "b905c73f-9784-4d6b-9800-790467d86559",
   "metadata": {},
   "outputs": [
    {
     "name": "stdout",
     "output_type": "stream",
     "text": [
      "Dataset Preview:\n",
      "  Age Group Sleep Hours Work Hours Physical Activities  \\\n",
      "0     15-19          <6         <6                walk   \n",
      "1     15-19          <6         <6                walk   \n",
      "2     15-19          <6         <6                walk   \n",
      "3     15-19          <6         <6                walk   \n",
      "4     15-19          <6         <6                walk   \n",
      "\n",
      "                     Mental State Severity  \\\n",
      "0  Relationship and Family Issues     High   \n",
      "1  Relationship and Family Issues   Medium   \n",
      "2  Relationship and Family Issues      Low   \n",
      "3                 Family Dynamics     High   \n",
      "4                 Family Dynamics   Medium   \n",
      "\n",
      "                                     Recommendations  \n",
      "0  ['Communicate openly with family members.', 'C...  \n",
      "1  ['Communicate openly with family members.', 'C...  \n",
      "2  ['Communicate openly with family members.', 'C...  \n",
      "3  ['Plan family activities to strengthen bonds.'...  \n",
      "4  ['Plan family activities to strengthen bonds.'...  \n"
     ]
    }
   ],
   "source": [
    "print(\"Dataset Preview:\")\n",
    "print(df.head())"
   ]
  },
  {
   "cell_type": "code",
   "execution_count": 5,
   "id": "2e9ddece-75f6-4af6-8c64-fcafca887be1",
   "metadata": {},
   "outputs": [
    {
     "name": "stdout",
     "output_type": "stream",
     "text": [
      "\n",
      "Missing Values:\n",
      "Age Group              0\n",
      "Sleep Hours            0\n",
      "Work Hours             0\n",
      "Physical Activities    0\n",
      "Mental State           0\n",
      "Severity               0\n",
      "Recommendations        0\n",
      "dtype: int64\n"
     ]
    }
   ],
   "source": [
    "# Check for missing values in the dataset\n",
    "print(\"\\nMissing Values:\")\n",
    "print(df.isnull().sum())"
   ]
  },
  {
   "cell_type": "code",
   "execution_count": 6,
   "id": "14358ada",
   "metadata": {},
   "outputs": [
    {
     "data": {
      "text/plain": [
       "array(['15-19', '20-24', '25-30'], dtype=object)"
      ]
     },
     "execution_count": 6,
     "metadata": {},
     "output_type": "execute_result"
    }
   ],
   "source": [
    "df[\"Age Group\"].unique()"
   ]
  },
  {
   "cell_type": "code",
   "execution_count": 7,
   "id": "7f48852b",
   "metadata": {},
   "outputs": [
    {
     "data": {
      "text/plain": [
       "(array(['Relationship and Family Issues', 'Family Dynamics',\n",
       "        'Sexual and Reproduction Issues', 'Anxiety', 'Hormonal Changes',\n",
       "        'Body Image', 'Eating Disorder', 'Depression', 'Suicidal Thoughts'],\n",
       "       dtype=object),)"
      ]
     },
     "execution_count": 7,
     "metadata": {},
     "output_type": "execute_result"
    }
   ],
   "source": [
    "df[\"Mental State\"].unique(),"
   ]
  },
  {
   "cell_type": "code",
   "execution_count": 8,
   "id": "d0451068",
   "metadata": {},
   "outputs": [
    {
     "data": {
      "text/plain": [
       "(array(['walk', 'run', 'yoga', 'gym', 'no-exercise'], dtype=object),)"
      ]
     },
     "execution_count": 8,
     "metadata": {},
     "output_type": "execute_result"
    }
   ],
   "source": [
    "df[\"Physical Activities\"].unique(),"
   ]
  },
  {
   "cell_type": "code",
   "execution_count": 9,
   "id": "3a1e1d94",
   "metadata": {},
   "outputs": [
    {
     "data": {
      "text/plain": [
       "(array([\"['Communicate openly with family members.', 'Consider family counseling.', 'Set clear boundaries in relationships.', 'Practice active listening in conversations.', 'Spend quality time with loved ones.']\",\n",
       "        \"['Plan family activities to strengthen bonds.', 'Encourage family meetings to discuss issues.', 'Respect individual opinions within the family.', 'Teach children about empathy and understanding.', 'Develop a routine to spend time together.']\",\n",
       "        \"['Consult a qualified medical professional.', 'Educate yourself on reproductive health.', 'Practice safe sex methods.', 'Seek support groups for sexual health issues.', 'Discuss concerns openly with a partner.']\",\n",
       "        \"['Practice deep breathing exercises daily.', 'Engage in mindfulness meditation.', 'Exercise regularly to reduce stress.', 'Avoid excessive caffeine or sugar intake.', 'Develop a consistent sleep schedule.']\",\n",
       "        \"['Maintain a balanced diet rich in nutrients.', 'Exercise regularly to manage hormonal fluctuations.', 'Get sufficient sleep to regulate hormones.', 'Avoid excessive stress through mindfulness techniques.', 'Consult a doctor for hormonal therapy if needed.']\",\n",
       "        \"['Avoid comparing yourself to others on social media.', 'Focus on the strengths and capabilities of your body.', 'Wear clothes that make you feel confident.', 'Surround yourself with positive and supportive people.', 'Engage in physical activities you enjoy.']\",\n",
       "        '[\\'Seek professional help from a dietitian or therapist.\\', \\'Develop a regular eating schedule.\\', \"Avoid labeling foods as \\'good\\' or \\'bad.\\'\", \\'Practice mindful eating without distractions.\\', \\'Join support groups for eating disorder recovery.\\']',\n",
       "        \"['Reach out to a trusted friend or family member.', 'Consider therapy with a licensed counselor.', 'Engage in activities you once enjoyed.', 'Establish a routine to bring structure to your day.', 'Avoid isolation by joining community events.']\",\n",
       "        \"['Contact a crisis hotline immediately.', 'Talk to a trusted family member or friend.', 'Remove access to harmful objects or substances.', 'Seek professional mental health support.', 'Engage in mindfulness to calm intrusive thoughts.']\",\n",
       "        \"['Communicate openly with family members.', 'Consider family counseling.', 'Set clear boundaries in relationships.', 'Practice active listening in conversations.', 'Spend quality time with loved ones.', 'Immediately consult a mental health professional.', 'Reduce work hours to avoid burnout.', 'Adopt a sleep hygiene routine to improve rest.', 'Avoid making critical decisions under stress.', 'Seek help from a trusted crisis support organization.']\",\n",
       "        \"['Plan family activities to strengthen bonds.', 'Encourage family meetings to discuss issues.', 'Respect individual opinions within the family.', 'Teach children about empathy and understanding.', 'Develop a routine to spend time together.', 'Immediately consult a mental health professional.', 'Reduce work hours to avoid burnout.', 'Adopt a sleep hygiene routine to improve rest.', 'Avoid making critical decisions under stress.', 'Seek help from a trusted crisis support organization.']\",\n",
       "        \"['Consult a qualified medical professional.', 'Educate yourself on reproductive health.', 'Practice safe sex methods.', 'Seek support groups for sexual health issues.', 'Discuss concerns openly with a partner.', 'Immediately consult a mental health professional.', 'Reduce work hours to avoid burnout.', 'Adopt a sleep hygiene routine to improve rest.', 'Avoid making critical decisions under stress.', 'Seek help from a trusted crisis support organization.']\",\n",
       "        \"['Practice deep breathing exercises daily.', 'Engage in mindfulness meditation.', 'Exercise regularly to reduce stress.', 'Avoid excessive caffeine or sugar intake.', 'Develop a consistent sleep schedule.', 'Immediately consult a mental health professional.', 'Reduce work hours to avoid burnout.', 'Adopt a sleep hygiene routine to improve rest.', 'Avoid making critical decisions under stress.', 'Seek help from a trusted crisis support organization.']\",\n",
       "        \"['Maintain a balanced diet rich in nutrients.', 'Exercise regularly to manage hormonal fluctuations.', 'Get sufficient sleep to regulate hormones.', 'Avoid excessive stress through mindfulness techniques.', 'Consult a doctor for hormonal therapy if needed.', 'Immediately consult a mental health professional.', 'Reduce work hours to avoid burnout.', 'Adopt a sleep hygiene routine to improve rest.', 'Avoid making critical decisions under stress.', 'Seek help from a trusted crisis support organization.']\",\n",
       "        \"['Avoid comparing yourself to others on social media.', 'Focus on the strengths and capabilities of your body.', 'Wear clothes that make you feel confident.', 'Surround yourself with positive and supportive people.', 'Engage in physical activities you enjoy.', 'Immediately consult a mental health professional.', 'Reduce work hours to avoid burnout.', 'Adopt a sleep hygiene routine to improve rest.', 'Avoid making critical decisions under stress.', 'Seek help from a trusted crisis support organization.']\",\n",
       "        '[\\'Seek professional help from a dietitian or therapist.\\', \\'Develop a regular eating schedule.\\', \"Avoid labeling foods as \\'good\\' or \\'bad.\\'\", \\'Practice mindful eating without distractions.\\', \\'Join support groups for eating disorder recovery.\\', \\'Immediately consult a mental health professional.\\', \\'Reduce work hours to avoid burnout.\\', \\'Adopt a sleep hygiene routine to improve rest.\\', \\'Avoid making critical decisions under stress.\\', \\'Seek help from a trusted crisis support organization.\\']',\n",
       "        \"['Reach out to a trusted friend or family member.', 'Consider therapy with a licensed counselor.', 'Engage in activities you once enjoyed.', 'Establish a routine to bring structure to your day.', 'Avoid isolation by joining community events.', 'Immediately consult a mental health professional.', 'Reduce work hours to avoid burnout.', 'Adopt a sleep hygiene routine to improve rest.', 'Avoid making critical decisions under stress.', 'Seek help from a trusted crisis support organization.']\",\n",
       "        \"['Contact a crisis hotline immediately.', 'Talk to a trusted family member or friend.', 'Remove access to harmful objects or substances.', 'Seek professional mental health support.', 'Engage in mindfulness to calm intrusive thoughts.', 'Immediately consult a mental health professional.', 'Reduce work hours to avoid burnout.', 'Adopt a sleep hygiene routine to improve rest.', 'Avoid making critical decisions under stress.', 'Seek help from a trusted crisis support organization.']\",\n",
       "        \"['Communicate openly with family members.', 'Consider family counseling.', 'Set clear boundaries in relationships.', 'Practice active listening in conversations.', 'Spend quality time with loved ones.', 'Set a balanced routine for work and sleep.', 'Incorporate regular breaks during work hours.', 'Engage in moderate physical activities like yoga.', 'Speak with a counselor for stress management.', 'Practice journaling to process thoughts and emotions.']\",\n",
       "        \"['Plan family activities to strengthen bonds.', 'Encourage family meetings to discuss issues.', 'Respect individual opinions within the family.', 'Teach children about empathy and understanding.', 'Develop a routine to spend time together.', 'Set a balanced routine for work and sleep.', 'Incorporate regular breaks during work hours.', 'Engage in moderate physical activities like yoga.', 'Speak with a counselor for stress management.', 'Practice journaling to process thoughts and emotions.']\",\n",
       "        \"['Consult a qualified medical professional.', 'Educate yourself on reproductive health.', 'Practice safe sex methods.', 'Seek support groups for sexual health issues.', 'Discuss concerns openly with a partner.', 'Set a balanced routine for work and sleep.', 'Incorporate regular breaks during work hours.', 'Engage in moderate physical activities like yoga.', 'Speak with a counselor for stress management.', 'Practice journaling to process thoughts and emotions.']\",\n",
       "        \"['Practice deep breathing exercises daily.', 'Engage in mindfulness meditation.', 'Exercise regularly to reduce stress.', 'Avoid excessive caffeine or sugar intake.', 'Develop a consistent sleep schedule.', 'Set a balanced routine for work and sleep.', 'Incorporate regular breaks during work hours.', 'Engage in moderate physical activities like yoga.', 'Speak with a counselor for stress management.', 'Practice journaling to process thoughts and emotions.']\",\n",
       "        \"['Maintain a balanced diet rich in nutrients.', 'Exercise regularly to manage hormonal fluctuations.', 'Get sufficient sleep to regulate hormones.', 'Avoid excessive stress through mindfulness techniques.', 'Consult a doctor for hormonal therapy if needed.', 'Set a balanced routine for work and sleep.', 'Incorporate regular breaks during work hours.', 'Engage in moderate physical activities like yoga.', 'Speak with a counselor for stress management.', 'Practice journaling to process thoughts and emotions.']\",\n",
       "        \"['Avoid comparing yourself to others on social media.', 'Focus on the strengths and capabilities of your body.', 'Wear clothes that make you feel confident.', 'Surround yourself with positive and supportive people.', 'Engage in physical activities you enjoy.', 'Set a balanced routine for work and sleep.', 'Incorporate regular breaks during work hours.', 'Engage in moderate physical activities like yoga.', 'Speak with a counselor for stress management.', 'Practice journaling to process thoughts and emotions.']\",\n",
       "        '[\\'Seek professional help from a dietitian or therapist.\\', \\'Develop a regular eating schedule.\\', \"Avoid labeling foods as \\'good\\' or \\'bad.\\'\", \\'Practice mindful eating without distractions.\\', \\'Join support groups for eating disorder recovery.\\', \\'Set a balanced routine for work and sleep.\\', \\'Incorporate regular breaks during work hours.\\', \\'Engage in moderate physical activities like yoga.\\', \\'Speak with a counselor for stress management.\\', \\'Practice journaling to process thoughts and emotions.\\']',\n",
       "        \"['Reach out to a trusted friend or family member.', 'Consider therapy with a licensed counselor.', 'Engage in activities you once enjoyed.', 'Establish a routine to bring structure to your day.', 'Avoid isolation by joining community events.', 'Set a balanced routine for work and sleep.', 'Incorporate regular breaks during work hours.', 'Engage in moderate physical activities like yoga.', 'Speak with a counselor for stress management.', 'Practice journaling to process thoughts and emotions.']\",\n",
       "        \"['Contact a crisis hotline immediately.', 'Talk to a trusted family member or friend.', 'Remove access to harmful objects or substances.', 'Seek professional mental health support.', 'Engage in mindfulness to calm intrusive thoughts.', 'Set a balanced routine for work and sleep.', 'Incorporate regular breaks during work hours.', 'Engage in moderate physical activities like yoga.', 'Speak with a counselor for stress management.', 'Practice journaling to process thoughts and emotions.']\",\n",
       "        \"['Communicate openly with family members.', 'Consider family counseling.', 'Set clear boundaries in relationships.', 'Practice active listening in conversations.', 'Spend quality time with loved ones.', 'Focus on maintaining healthy sleep patterns.', 'Engage in light physical activities like walking.', 'Spend more time in nature to rejuvenate your mind.', 'Read books or listen to calming music.', 'Practice gratitude and mindfulness exercises.']\",\n",
       "        \"['Plan family activities to strengthen bonds.', 'Encourage family meetings to discuss issues.', 'Respect individual opinions within the family.', 'Teach children about empathy and understanding.', 'Develop a routine to spend time together.', 'Focus on maintaining healthy sleep patterns.', 'Engage in light physical activities like walking.', 'Spend more time in nature to rejuvenate your mind.', 'Read books or listen to calming music.', 'Practice gratitude and mindfulness exercises.']\",\n",
       "        \"['Consult a qualified medical professional.', 'Educate yourself on reproductive health.', 'Practice safe sex methods.', 'Seek support groups for sexual health issues.', 'Discuss concerns openly with a partner.', 'Focus on maintaining healthy sleep patterns.', 'Engage in light physical activities like walking.', 'Spend more time in nature to rejuvenate your mind.', 'Read books or listen to calming music.', 'Practice gratitude and mindfulness exercises.']\",\n",
       "        \"['Practice deep breathing exercises daily.', 'Engage in mindfulness meditation.', 'Exercise regularly to reduce stress.', 'Avoid excessive caffeine or sugar intake.', 'Develop a consistent sleep schedule.', 'Focus on maintaining healthy sleep patterns.', 'Engage in light physical activities like walking.', 'Spend more time in nature to rejuvenate your mind.', 'Read books or listen to calming music.', 'Practice gratitude and mindfulness exercises.']\",\n",
       "        \"['Maintain a balanced diet rich in nutrients.', 'Exercise regularly to manage hormonal fluctuations.', 'Get sufficient sleep to regulate hormones.', 'Avoid excessive stress through mindfulness techniques.', 'Consult a doctor for hormonal therapy if needed.', 'Focus on maintaining healthy sleep patterns.', 'Engage in light physical activities like walking.', 'Spend more time in nature to rejuvenate your mind.', 'Read books or listen to calming music.', 'Practice gratitude and mindfulness exercises.']\",\n",
       "        \"['Avoid comparing yourself to others on social media.', 'Focus on the strengths and capabilities of your body.', 'Wear clothes that make you feel confident.', 'Surround yourself with positive and supportive people.', 'Engage in physical activities you enjoy.', 'Focus on maintaining healthy sleep patterns.', 'Engage in light physical activities like walking.', 'Spend more time in nature to rejuvenate your mind.', 'Read books or listen to calming music.', 'Practice gratitude and mindfulness exercises.']\",\n",
       "        '[\\'Seek professional help from a dietitian or therapist.\\', \\'Develop a regular eating schedule.\\', \"Avoid labeling foods as \\'good\\' or \\'bad.\\'\", \\'Practice mindful eating without distractions.\\', \\'Join support groups for eating disorder recovery.\\', \\'Focus on maintaining healthy sleep patterns.\\', \\'Engage in light physical activities like walking.\\', \\'Spend more time in nature to rejuvenate your mind.\\', \\'Read books or listen to calming music.\\', \\'Practice gratitude and mindfulness exercises.\\']',\n",
       "        \"['Reach out to a trusted friend or family member.', 'Consider therapy with a licensed counselor.', 'Engage in activities you once enjoyed.', 'Establish a routine to bring structure to your day.', 'Avoid isolation by joining community events.', 'Focus on maintaining healthy sleep patterns.', 'Engage in light physical activities like walking.', 'Spend more time in nature to rejuvenate your mind.', 'Read books or listen to calming music.', 'Practice gratitude and mindfulness exercises.']\",\n",
       "        \"['Contact a crisis hotline immediately.', 'Talk to a trusted family member or friend.', 'Remove access to harmful objects or substances.', 'Seek professional mental health support.', 'Engage in mindfulness to calm intrusive thoughts.', 'Focus on maintaining healthy sleep patterns.', 'Engage in light physical activities like walking.', 'Spend more time in nature to rejuvenate your mind.', 'Read books or listen to calming music.', 'Practice gratitude and mindfulness exercises.']\"],\n",
       "       dtype=object),)"
      ]
     },
     "execution_count": 9,
     "metadata": {},
     "output_type": "execute_result"
    }
   ],
   "source": [
    "df[\"Recommendations\"].unique(),"
   ]
  },
  {
   "cell_type": "code",
   "execution_count": 10,
   "id": "c8ca7623",
   "metadata": {},
   "outputs": [
    {
     "data": {
      "text/plain": [
       "(array(['High', 'Medium', 'Low'], dtype=object),)"
      ]
     },
     "execution_count": 10,
     "metadata": {},
     "output_type": "execute_result"
    }
   ],
   "source": [
    "df[\"Severity\"].unique(),"
   ]
  },
  {
   "cell_type": "code",
   "execution_count": 11,
   "id": "711305ac",
   "metadata": {},
   "outputs": [
    {
     "data": {
      "text/plain": [
       "(array(['<6', '6-8', '>8'], dtype=object),)"
      ]
     },
     "execution_count": 11,
     "metadata": {},
     "output_type": "execute_result"
    }
   ],
   "source": [
    "df[\"Sleep Hours\"].unique(),"
   ]
  },
  {
   "cell_type": "code",
   "execution_count": 12,
   "id": "b32721b4",
   "metadata": {},
   "outputs": [
    {
     "data": {
      "text/plain": [
       "(array(['<6', '6-8', '>8'], dtype=object),)"
      ]
     },
     "execution_count": 12,
     "metadata": {},
     "output_type": "execute_result"
    }
   ],
   "source": [
    "df[\"Work Hours\"].unique(),"
   ]
  },
  {
   "cell_type": "code",
   "execution_count": 13,
   "id": "6e07b069-b918-4fe7-bcf7-3c8036eae867",
   "metadata": {},
   "outputs": [
    {
     "name": "stdout",
     "output_type": "stream",
     "text": [
      "\n",
      "Dataset Information:\n",
      "<class 'pandas.core.frame.DataFrame'>\n",
      "RangeIndex: 3645 entries, 0 to 3644\n",
      "Data columns (total 7 columns):\n",
      " #   Column               Non-Null Count  Dtype \n",
      "---  ------               --------------  ----- \n",
      " 0   Age Group            3645 non-null   object\n",
      " 1   Sleep Hours          3645 non-null   object\n",
      " 2   Work Hours           3645 non-null   object\n",
      " 3   Physical Activities  3645 non-null   object\n",
      " 4   Mental State         3645 non-null   object\n",
      " 5   Severity             3645 non-null   object\n",
      " 6   Recommendations      3645 non-null   object\n",
      "dtypes: object(7)\n",
      "memory usage: 199.5+ KB\n"
     ]
    }
   ],
   "source": [
    "# Get basic information about the dataset (e.g., data types, number of entries)\n",
    "print(\"\\nDataset Information:\")\n",
    "df.info()\n",
    "\n"
   ]
  },
  {
   "cell_type": "code",
   "execution_count": 14,
   "id": "16f6c6fe-40c9-4f67-88a9-5f1b5c8435bf",
   "metadata": {},
   "outputs": [],
   "source": [
    "\n",
    "# Drop any rows with missing values (if any exist)\n",
    "df.dropna(inplace=True)"
   ]
  },
  {
   "cell_type": "code",
   "execution_count": 15,
   "id": "956fe3b2-88a4-406b-b860-9683c945102d",
   "metadata": {},
   "outputs": [],
   "source": [
    "# Encode categorical features\n",
    "label_encoders = {}\n",
    "for col in df.columns[:-1]:  # Exclude target column 'Recommendations'\n",
    "    if df[col].dtype == 'object':\n",
    "        le = LabelEncoder()\n",
    "        df[col] = le.fit_transform(df[col])\n",
    "        label_encoders[col] = le  # Save the encoder for future decoding\n"
   ]
  },
  {
   "cell_type": "code",
   "execution_count": 16,
   "id": "cba93e7e-ecd5-4580-8fc5-9de7c3aa1ab7",
   "metadata": {},
   "outputs": [],
   "source": [
    "# Encode the target variable (Recommendations)\n",
    "y_encoder = LabelEncoder()\n",
    "df['Recommendations'] = y_encoder.fit_transform(df['Recommendations'])\n"
   ]
  },
  {
   "cell_type": "code",
   "execution_count": 17,
   "id": "434f74ef-d2eb-42db-82b9-aaf61ab74570",
   "metadata": {},
   "outputs": [],
   "source": [
    "# Define features (X) and target labels (y)\n",
    "X = df.drop(columns=['Recommendations'])\n",
    "y = df['Recommendations']\n"
   ]
  },
  {
   "cell_type": "code",
   "execution_count": 18,
   "id": "c181338c",
   "metadata": {},
   "outputs": [
    {
     "data": {
      "text/html": [
       "<div>\n",
       "<style scoped>\n",
       "    .dataframe tbody tr th:only-of-type {\n",
       "        vertical-align: middle;\n",
       "    }\n",
       "\n",
       "    .dataframe tbody tr th {\n",
       "        vertical-align: top;\n",
       "    }\n",
       "\n",
       "    .dataframe thead th {\n",
       "        text-align: right;\n",
       "    }\n",
       "</style>\n",
       "<table border=\"1\" class=\"dataframe\">\n",
       "  <thead>\n",
       "    <tr style=\"text-align: right;\">\n",
       "      <th></th>\n",
       "      <th>Age Group</th>\n",
       "      <th>Sleep Hours</th>\n",
       "      <th>Work Hours</th>\n",
       "      <th>Physical Activities</th>\n",
       "      <th>Mental State</th>\n",
       "      <th>Severity</th>\n",
       "    </tr>\n",
       "  </thead>\n",
       "  <tbody>\n",
       "    <tr>\n",
       "      <th>0</th>\n",
       "      <td>0</td>\n",
       "      <td>1</td>\n",
       "      <td>1</td>\n",
       "      <td>3</td>\n",
       "      <td>6</td>\n",
       "      <td>0</td>\n",
       "    </tr>\n",
       "    <tr>\n",
       "      <th>1</th>\n",
       "      <td>0</td>\n",
       "      <td>1</td>\n",
       "      <td>1</td>\n",
       "      <td>3</td>\n",
       "      <td>6</td>\n",
       "      <td>2</td>\n",
       "    </tr>\n",
       "    <tr>\n",
       "      <th>2</th>\n",
       "      <td>0</td>\n",
       "      <td>1</td>\n",
       "      <td>1</td>\n",
       "      <td>3</td>\n",
       "      <td>6</td>\n",
       "      <td>1</td>\n",
       "    </tr>\n",
       "    <tr>\n",
       "      <th>3</th>\n",
       "      <td>0</td>\n",
       "      <td>1</td>\n",
       "      <td>1</td>\n",
       "      <td>3</td>\n",
       "      <td>4</td>\n",
       "      <td>0</td>\n",
       "    </tr>\n",
       "    <tr>\n",
       "      <th>4</th>\n",
       "      <td>0</td>\n",
       "      <td>1</td>\n",
       "      <td>1</td>\n",
       "      <td>3</td>\n",
       "      <td>4</td>\n",
       "      <td>2</td>\n",
       "    </tr>\n",
       "    <tr>\n",
       "      <th>...</th>\n",
       "      <td>...</td>\n",
       "      <td>...</td>\n",
       "      <td>...</td>\n",
       "      <td>...</td>\n",
       "      <td>...</td>\n",
       "      <td>...</td>\n",
       "    </tr>\n",
       "    <tr>\n",
       "      <th>3640</th>\n",
       "      <td>2</td>\n",
       "      <td>2</td>\n",
       "      <td>2</td>\n",
       "      <td>1</td>\n",
       "      <td>2</td>\n",
       "      <td>2</td>\n",
       "    </tr>\n",
       "    <tr>\n",
       "      <th>3641</th>\n",
       "      <td>2</td>\n",
       "      <td>2</td>\n",
       "      <td>2</td>\n",
       "      <td>1</td>\n",
       "      <td>2</td>\n",
       "      <td>1</td>\n",
       "    </tr>\n",
       "    <tr>\n",
       "      <th>3642</th>\n",
       "      <td>2</td>\n",
       "      <td>2</td>\n",
       "      <td>2</td>\n",
       "      <td>1</td>\n",
       "      <td>8</td>\n",
       "      <td>0</td>\n",
       "    </tr>\n",
       "    <tr>\n",
       "      <th>3643</th>\n",
       "      <td>2</td>\n",
       "      <td>2</td>\n",
       "      <td>2</td>\n",
       "      <td>1</td>\n",
       "      <td>8</td>\n",
       "      <td>2</td>\n",
       "    </tr>\n",
       "    <tr>\n",
       "      <th>3644</th>\n",
       "      <td>2</td>\n",
       "      <td>2</td>\n",
       "      <td>2</td>\n",
       "      <td>1</td>\n",
       "      <td>8</td>\n",
       "      <td>1</td>\n",
       "    </tr>\n",
       "  </tbody>\n",
       "</table>\n",
       "<p>3645 rows × 6 columns</p>\n",
       "</div>"
      ],
      "text/plain": [
       "      Age Group  Sleep Hours  Work Hours  Physical Activities  Mental State  \\\n",
       "0             0            1           1                    3             6   \n",
       "1             0            1           1                    3             6   \n",
       "2             0            1           1                    3             6   \n",
       "3             0            1           1                    3             4   \n",
       "4             0            1           1                    3             4   \n",
       "...         ...          ...         ...                  ...           ...   \n",
       "3640          2            2           2                    1             2   \n",
       "3641          2            2           2                    1             2   \n",
       "3642          2            2           2                    1             8   \n",
       "3643          2            2           2                    1             8   \n",
       "3644          2            2           2                    1             8   \n",
       "\n",
       "      Severity  \n",
       "0            0  \n",
       "1            2  \n",
       "2            1  \n",
       "3            0  \n",
       "4            2  \n",
       "...        ...  \n",
       "3640         2  \n",
       "3641         1  \n",
       "3642         0  \n",
       "3643         2  \n",
       "3644         1  \n",
       "\n",
       "[3645 rows x 6 columns]"
      ]
     },
     "execution_count": 18,
     "metadata": {},
     "output_type": "execute_result"
    }
   ],
   "source": [
    "X"
   ]
  },
  {
   "cell_type": "code",
   "execution_count": 19,
   "id": "69f916df",
   "metadata": {},
   "outputs": [
    {
     "data": {
      "text/plain": [
       "0        7\n",
       "1        7\n",
       "2        7\n",
       "3       23\n",
       "4       23\n",
       "        ..\n",
       "3640    31\n",
       "3641    31\n",
       "3642    15\n",
       "3643    15\n",
       "3644    15\n",
       "Name: Recommendations, Length: 3645, dtype: int64"
      ]
     },
     "execution_count": 19,
     "metadata": {},
     "output_type": "execute_result"
    }
   ],
   "source": [
    "y"
   ]
  },
  {
   "cell_type": "code",
   "execution_count": 20,
   "id": "73cde3ae",
   "metadata": {},
   "outputs": [
    {
     "name": "stdout",
     "output_type": "stream",
     "text": [
      "   Age Group  Sleep Hours  Work Hours  Physical Activities  Mental State  \\\n",
      "0          0            1           1                    3             6   \n",
      "1          0            1           1                    3             6   \n",
      "2          0            1           1                    3             6   \n",
      "3          0            1           1                    3             4   \n",
      "4          0            1           1                    3             4   \n",
      "5          0            1           1                    3             4   \n",
      "6          0            1           1                    3             7   \n",
      "7          0            1           1                    3             7   \n",
      "8          0            1           1                    3             7   \n",
      "9          0            1           1                    3             0   \n",
      "\n",
      "   Severity  \n",
      "0         0  \n",
      "1         2  \n",
      "2         1  \n",
      "3         0  \n",
      "4         2  \n",
      "5         1  \n",
      "6         0  \n",
      "7         2  \n",
      "8         1  \n",
      "9         0  \n",
      "-------------------\n",
      "0     7\n",
      "1     7\n",
      "2     7\n",
      "3    23\n",
      "4    23\n",
      "5    23\n",
      "6    11\n",
      "7    11\n",
      "8    11\n",
      "9    27\n",
      "Name: Recommendations, dtype: int64\n"
     ]
    }
   ],
   "source": [
    "print(X[:10])\n",
    "print(\"-------------------\")\n",
    "print(y[:10])"
   ]
  },
  {
   "cell_type": "code",
   "execution_count": 21,
   "id": "c93756a9",
   "metadata": {},
   "outputs": [
    {
     "name": "stdout",
     "output_type": "stream",
     "text": [
      "[\"['Avoid comparing yourself to others on social media.', 'Focus on the strengths and capabilities of your body.', 'Wear clothes that make you feel confident.', 'Surround yourself with positive and supportive people.', 'Engage in physical activities you enjoy.', 'Focus on maintaining healthy sleep patterns.', 'Engage in light physical activities like walking.', 'Spend more time in nature to rejuvenate your mind.', 'Read books or listen to calming music.', 'Practice gratitude and mindfulness exercises.']\"\n",
      " \"['Avoid comparing yourself to others on social media.', 'Focus on the strengths and capabilities of your body.', 'Wear clothes that make you feel confident.', 'Surround yourself with positive and supportive people.', 'Engage in physical activities you enjoy.', 'Immediately consult a mental health professional.', 'Reduce work hours to avoid burnout.', 'Adopt a sleep hygiene routine to improve rest.', 'Avoid making critical decisions under stress.', 'Seek help from a trusted crisis support organization.']\"\n",
      " \"['Avoid comparing yourself to others on social media.', 'Focus on the strengths and capabilities of your body.', 'Wear clothes that make you feel confident.', 'Surround yourself with positive and supportive people.', 'Engage in physical activities you enjoy.', 'Set a balanced routine for work and sleep.', 'Incorporate regular breaks during work hours.', 'Engage in moderate physical activities like yoga.', 'Speak with a counselor for stress management.', 'Practice journaling to process thoughts and emotions.']\"\n",
      " \"['Avoid comparing yourself to others on social media.', 'Focus on the strengths and capabilities of your body.', 'Wear clothes that make you feel confident.', 'Surround yourself with positive and supportive people.', 'Engage in physical activities you enjoy.']\"\n",
      " \"['Communicate openly with family members.', 'Consider family counseling.', 'Set clear boundaries in relationships.', 'Practice active listening in conversations.', 'Spend quality time with loved ones.', 'Focus on maintaining healthy sleep patterns.', 'Engage in light physical activities like walking.', 'Spend more time in nature to rejuvenate your mind.', 'Read books or listen to calming music.', 'Practice gratitude and mindfulness exercises.']\"\n",
      " \"['Communicate openly with family members.', 'Consider family counseling.', 'Set clear boundaries in relationships.', 'Practice active listening in conversations.', 'Spend quality time with loved ones.', 'Immediately consult a mental health professional.', 'Reduce work hours to avoid burnout.', 'Adopt a sleep hygiene routine to improve rest.', 'Avoid making critical decisions under stress.', 'Seek help from a trusted crisis support organization.']\"\n",
      " \"['Communicate openly with family members.', 'Consider family counseling.', 'Set clear boundaries in relationships.', 'Practice active listening in conversations.', 'Spend quality time with loved ones.', 'Set a balanced routine for work and sleep.', 'Incorporate regular breaks during work hours.', 'Engage in moderate physical activities like yoga.', 'Speak with a counselor for stress management.', 'Practice journaling to process thoughts and emotions.']\"\n",
      " \"['Communicate openly with family members.', 'Consider family counseling.', 'Set clear boundaries in relationships.', 'Practice active listening in conversations.', 'Spend quality time with loved ones.']\"\n",
      " \"['Consult a qualified medical professional.', 'Educate yourself on reproductive health.', 'Practice safe sex methods.', 'Seek support groups for sexual health issues.', 'Discuss concerns openly with a partner.', 'Focus on maintaining healthy sleep patterns.', 'Engage in light physical activities like walking.', 'Spend more time in nature to rejuvenate your mind.', 'Read books or listen to calming music.', 'Practice gratitude and mindfulness exercises.']\"\n",
      " \"['Consult a qualified medical professional.', 'Educate yourself on reproductive health.', 'Practice safe sex methods.', 'Seek support groups for sexual health issues.', 'Discuss concerns openly with a partner.', 'Immediately consult a mental health professional.', 'Reduce work hours to avoid burnout.', 'Adopt a sleep hygiene routine to improve rest.', 'Avoid making critical decisions under stress.', 'Seek help from a trusted crisis support organization.']\"\n",
      " \"['Consult a qualified medical professional.', 'Educate yourself on reproductive health.', 'Practice safe sex methods.', 'Seek support groups for sexual health issues.', 'Discuss concerns openly with a partner.', 'Set a balanced routine for work and sleep.', 'Incorporate regular breaks during work hours.', 'Engage in moderate physical activities like yoga.', 'Speak with a counselor for stress management.', 'Practice journaling to process thoughts and emotions.']\"\n",
      " \"['Consult a qualified medical professional.', 'Educate yourself on reproductive health.', 'Practice safe sex methods.', 'Seek support groups for sexual health issues.', 'Discuss concerns openly with a partner.']\"\n",
      " \"['Contact a crisis hotline immediately.', 'Talk to a trusted family member or friend.', 'Remove access to harmful objects or substances.', 'Seek professional mental health support.', 'Engage in mindfulness to calm intrusive thoughts.', 'Focus on maintaining healthy sleep patterns.', 'Engage in light physical activities like walking.', 'Spend more time in nature to rejuvenate your mind.', 'Read books or listen to calming music.', 'Practice gratitude and mindfulness exercises.']\"\n",
      " \"['Contact a crisis hotline immediately.', 'Talk to a trusted family member or friend.', 'Remove access to harmful objects or substances.', 'Seek professional mental health support.', 'Engage in mindfulness to calm intrusive thoughts.', 'Immediately consult a mental health professional.', 'Reduce work hours to avoid burnout.', 'Adopt a sleep hygiene routine to improve rest.', 'Avoid making critical decisions under stress.', 'Seek help from a trusted crisis support organization.']\"\n",
      " \"['Contact a crisis hotline immediately.', 'Talk to a trusted family member or friend.', 'Remove access to harmful objects or substances.', 'Seek professional mental health support.', 'Engage in mindfulness to calm intrusive thoughts.', 'Set a balanced routine for work and sleep.', 'Incorporate regular breaks during work hours.', 'Engage in moderate physical activities like yoga.', 'Speak with a counselor for stress management.', 'Practice journaling to process thoughts and emotions.']\"\n",
      " \"['Contact a crisis hotline immediately.', 'Talk to a trusted family member or friend.', 'Remove access to harmful objects or substances.', 'Seek professional mental health support.', 'Engage in mindfulness to calm intrusive thoughts.']\"\n",
      " \"['Maintain a balanced diet rich in nutrients.', 'Exercise regularly to manage hormonal fluctuations.', 'Get sufficient sleep to regulate hormones.', 'Avoid excessive stress through mindfulness techniques.', 'Consult a doctor for hormonal therapy if needed.', 'Focus on maintaining healthy sleep patterns.', 'Engage in light physical activities like walking.', 'Spend more time in nature to rejuvenate your mind.', 'Read books or listen to calming music.', 'Practice gratitude and mindfulness exercises.']\"\n",
      " \"['Maintain a balanced diet rich in nutrients.', 'Exercise regularly to manage hormonal fluctuations.', 'Get sufficient sleep to regulate hormones.', 'Avoid excessive stress through mindfulness techniques.', 'Consult a doctor for hormonal therapy if needed.', 'Immediately consult a mental health professional.', 'Reduce work hours to avoid burnout.', 'Adopt a sleep hygiene routine to improve rest.', 'Avoid making critical decisions under stress.', 'Seek help from a trusted crisis support organization.']\"\n",
      " \"['Maintain a balanced diet rich in nutrients.', 'Exercise regularly to manage hormonal fluctuations.', 'Get sufficient sleep to regulate hormones.', 'Avoid excessive stress through mindfulness techniques.', 'Consult a doctor for hormonal therapy if needed.', 'Set a balanced routine for work and sleep.', 'Incorporate regular breaks during work hours.', 'Engage in moderate physical activities like yoga.', 'Speak with a counselor for stress management.', 'Practice journaling to process thoughts and emotions.']\"\n",
      " \"['Maintain a balanced diet rich in nutrients.', 'Exercise regularly to manage hormonal fluctuations.', 'Get sufficient sleep to regulate hormones.', 'Avoid excessive stress through mindfulness techniques.', 'Consult a doctor for hormonal therapy if needed.']\"\n",
      " \"['Plan family activities to strengthen bonds.', 'Encourage family meetings to discuss issues.', 'Respect individual opinions within the family.', 'Teach children about empathy and understanding.', 'Develop a routine to spend time together.', 'Focus on maintaining healthy sleep patterns.', 'Engage in light physical activities like walking.', 'Spend more time in nature to rejuvenate your mind.', 'Read books or listen to calming music.', 'Practice gratitude and mindfulness exercises.']\"\n",
      " \"['Plan family activities to strengthen bonds.', 'Encourage family meetings to discuss issues.', 'Respect individual opinions within the family.', 'Teach children about empathy and understanding.', 'Develop a routine to spend time together.', 'Immediately consult a mental health professional.', 'Reduce work hours to avoid burnout.', 'Adopt a sleep hygiene routine to improve rest.', 'Avoid making critical decisions under stress.', 'Seek help from a trusted crisis support organization.']\"\n",
      " \"['Plan family activities to strengthen bonds.', 'Encourage family meetings to discuss issues.', 'Respect individual opinions within the family.', 'Teach children about empathy and understanding.', 'Develop a routine to spend time together.', 'Set a balanced routine for work and sleep.', 'Incorporate regular breaks during work hours.', 'Engage in moderate physical activities like yoga.', 'Speak with a counselor for stress management.', 'Practice journaling to process thoughts and emotions.']\"\n",
      " \"['Plan family activities to strengthen bonds.', 'Encourage family meetings to discuss issues.', 'Respect individual opinions within the family.', 'Teach children about empathy and understanding.', 'Develop a routine to spend time together.']\"\n",
      " \"['Practice deep breathing exercises daily.', 'Engage in mindfulness meditation.', 'Exercise regularly to reduce stress.', 'Avoid excessive caffeine or sugar intake.', 'Develop a consistent sleep schedule.', 'Focus on maintaining healthy sleep patterns.', 'Engage in light physical activities like walking.', 'Spend more time in nature to rejuvenate your mind.', 'Read books or listen to calming music.', 'Practice gratitude and mindfulness exercises.']\"\n",
      " \"['Practice deep breathing exercises daily.', 'Engage in mindfulness meditation.', 'Exercise regularly to reduce stress.', 'Avoid excessive caffeine or sugar intake.', 'Develop a consistent sleep schedule.', 'Immediately consult a mental health professional.', 'Reduce work hours to avoid burnout.', 'Adopt a sleep hygiene routine to improve rest.', 'Avoid making critical decisions under stress.', 'Seek help from a trusted crisis support organization.']\"\n",
      " \"['Practice deep breathing exercises daily.', 'Engage in mindfulness meditation.', 'Exercise regularly to reduce stress.', 'Avoid excessive caffeine or sugar intake.', 'Develop a consistent sleep schedule.', 'Set a balanced routine for work and sleep.', 'Incorporate regular breaks during work hours.', 'Engage in moderate physical activities like yoga.', 'Speak with a counselor for stress management.', 'Practice journaling to process thoughts and emotions.']\"\n",
      " \"['Practice deep breathing exercises daily.', 'Engage in mindfulness meditation.', 'Exercise regularly to reduce stress.', 'Avoid excessive caffeine or sugar intake.', 'Develop a consistent sleep schedule.']\"\n",
      " \"['Reach out to a trusted friend or family member.', 'Consider therapy with a licensed counselor.', 'Engage in activities you once enjoyed.', 'Establish a routine to bring structure to your day.', 'Avoid isolation by joining community events.', 'Focus on maintaining healthy sleep patterns.', 'Engage in light physical activities like walking.', 'Spend more time in nature to rejuvenate your mind.', 'Read books or listen to calming music.', 'Practice gratitude and mindfulness exercises.']\"\n",
      " \"['Reach out to a trusted friend or family member.', 'Consider therapy with a licensed counselor.', 'Engage in activities you once enjoyed.', 'Establish a routine to bring structure to your day.', 'Avoid isolation by joining community events.', 'Immediately consult a mental health professional.', 'Reduce work hours to avoid burnout.', 'Adopt a sleep hygiene routine to improve rest.', 'Avoid making critical decisions under stress.', 'Seek help from a trusted crisis support organization.']\"\n",
      " \"['Reach out to a trusted friend or family member.', 'Consider therapy with a licensed counselor.', 'Engage in activities you once enjoyed.', 'Establish a routine to bring structure to your day.', 'Avoid isolation by joining community events.', 'Set a balanced routine for work and sleep.', 'Incorporate regular breaks during work hours.', 'Engage in moderate physical activities like yoga.', 'Speak with a counselor for stress management.', 'Practice journaling to process thoughts and emotions.']\"\n",
      " \"['Reach out to a trusted friend or family member.', 'Consider therapy with a licensed counselor.', 'Engage in activities you once enjoyed.', 'Establish a routine to bring structure to your day.', 'Avoid isolation by joining community events.']\"\n",
      " '[\\'Seek professional help from a dietitian or therapist.\\', \\'Develop a regular eating schedule.\\', \"Avoid labeling foods as \\'good\\' or \\'bad.\\'\", \\'Practice mindful eating without distractions.\\', \\'Join support groups for eating disorder recovery.\\', \\'Focus on maintaining healthy sleep patterns.\\', \\'Engage in light physical activities like walking.\\', \\'Spend more time in nature to rejuvenate your mind.\\', \\'Read books or listen to calming music.\\', \\'Practice gratitude and mindfulness exercises.\\']'\n",
      " '[\\'Seek professional help from a dietitian or therapist.\\', \\'Develop a regular eating schedule.\\', \"Avoid labeling foods as \\'good\\' or \\'bad.\\'\", \\'Practice mindful eating without distractions.\\', \\'Join support groups for eating disorder recovery.\\', \\'Immediately consult a mental health professional.\\', \\'Reduce work hours to avoid burnout.\\', \\'Adopt a sleep hygiene routine to improve rest.\\', \\'Avoid making critical decisions under stress.\\', \\'Seek help from a trusted crisis support organization.\\']'\n",
      " '[\\'Seek professional help from a dietitian or therapist.\\', \\'Develop a regular eating schedule.\\', \"Avoid labeling foods as \\'good\\' or \\'bad.\\'\", \\'Practice mindful eating without distractions.\\', \\'Join support groups for eating disorder recovery.\\', \\'Set a balanced routine for work and sleep.\\', \\'Incorporate regular breaks during work hours.\\', \\'Engage in moderate physical activities like yoga.\\', \\'Speak with a counselor for stress management.\\', \\'Practice journaling to process thoughts and emotions.\\']'\n",
      " '[\\'Seek professional help from a dietitian or therapist.\\', \\'Develop a regular eating schedule.\\', \"Avoid labeling foods as \\'good\\' or \\'bad.\\'\", \\'Practice mindful eating without distractions.\\', \\'Join support groups for eating disorder recovery.\\']']\n"
     ]
    }
   ],
   "source": [
    "original_labels = y_encoder.classes_\n",
    "print(original_labels)"
   ]
  },
  {
   "cell_type": "code",
   "execution_count": 22,
   "id": "41b54f74",
   "metadata": {},
   "outputs": [
    {
     "name": "stdout",
     "output_type": "stream",
     "text": [
      "<class 'pandas.core.frame.DataFrame'>\n",
      "RangeIndex: 3645 entries, 0 to 3644\n",
      "Data columns (total 7 columns):\n",
      " #   Column               Non-Null Count  Dtype\n",
      "---  ------               --------------  -----\n",
      " 0   Age Group            3645 non-null   int64\n",
      " 1   Sleep Hours          3645 non-null   int64\n",
      " 2   Work Hours           3645 non-null   int64\n",
      " 3   Physical Activities  3645 non-null   int64\n",
      " 4   Mental State         3645 non-null   int64\n",
      " 5   Severity             3645 non-null   int64\n",
      " 6   Recommendations      3645 non-null   int64\n",
      "dtypes: int64(7)\n",
      "memory usage: 199.5 KB\n"
     ]
    }
   ],
   "source": [
    "df.info()"
   ]
  },
  {
   "cell_type": "code",
   "execution_count": 23,
   "id": "b6fd2f4c",
   "metadata": {},
   "outputs": [
    {
     "data": {
      "text/plain": [
       "(array([0, 1, 2]),)"
      ]
     },
     "execution_count": 23,
     "metadata": {},
     "output_type": "execute_result"
    }
   ],
   "source": [
    "df[\"Age Group\"].unique(),\n"
   ]
  },
  {
   "cell_type": "code",
   "execution_count": 24,
   "id": "c5a3d7d2",
   "metadata": {},
   "outputs": [
    {
     "data": {
      "text/plain": [
       "(array([6, 4, 7, 0, 5, 1, 3, 2, 8]),)"
      ]
     },
     "execution_count": 24,
     "metadata": {},
     "output_type": "execute_result"
    }
   ],
   "source": [
    "df[\"Mental State\"].unique(),\n"
   ]
  },
  {
   "cell_type": "code",
   "execution_count": 25,
   "id": "1890dbde",
   "metadata": {},
   "outputs": [
    {
     "data": {
      "text/plain": [
       "(array([3, 2, 4, 0, 1]),)"
      ]
     },
     "execution_count": 25,
     "metadata": {},
     "output_type": "execute_result"
    }
   ],
   "source": [
    "df[\"Physical Activities\"].unique(),\n"
   ]
  },
  {
   "cell_type": "code",
   "execution_count": 26,
   "id": "0ecf1f72",
   "metadata": {},
   "outputs": [
    {
     "data": {
      "text/plain": [
       "(array([ 7, 23, 11, 27, 19,  3, 35, 31, 15,  5, 21,  9, 25, 17,  1, 33, 29,\n",
       "        13,  6, 22, 10, 26, 18,  2, 34, 30, 14,  4, 20,  8, 24, 16,  0, 32,\n",
       "        28, 12]),)"
      ]
     },
     "execution_count": 26,
     "metadata": {},
     "output_type": "execute_result"
    }
   ],
   "source": [
    "df[\"Recommendations\"].unique(),\n"
   ]
  },
  {
   "cell_type": "code",
   "execution_count": 27,
   "id": "a77fbb3a",
   "metadata": {},
   "outputs": [
    {
     "data": {
      "text/plain": [
       "(array([0, 2, 1]),)"
      ]
     },
     "execution_count": 27,
     "metadata": {},
     "output_type": "execute_result"
    }
   ],
   "source": [
    "df[\"Severity\"].unique(),\n"
   ]
  },
  {
   "cell_type": "code",
   "execution_count": 28,
   "id": "bbf9f7f2",
   "metadata": {},
   "outputs": [
    {
     "data": {
      "text/plain": [
       "(array([1, 0, 2]),)"
      ]
     },
     "execution_count": 28,
     "metadata": {},
     "output_type": "execute_result"
    }
   ],
   "source": [
    "df[\"Sleep Hours\"].unique(),\n"
   ]
  },
  {
   "cell_type": "code",
   "execution_count": 29,
   "id": "36360eac",
   "metadata": {},
   "outputs": [
    {
     "data": {
      "text/plain": [
       "(array([1, 0, 2]),)"
      ]
     },
     "execution_count": 29,
     "metadata": {},
     "output_type": "execute_result"
    }
   ],
   "source": [
    "df[\"Work Hours\"].unique(),"
   ]
  },
  {
   "cell_type": "code",
   "execution_count": 30,
   "id": "8a76c635-39b2-49f6-80a8-a3108234c7fc",
   "metadata": {},
   "outputs": [],
   "source": [
    "# Splitting the dataset\n",
    "X_train, X_test, y_train, y_test = train_test_split(X, y, test_size=0.2, random_state=42)\n"
   ]
  },
  {
   "cell_type": "code",
   "execution_count": 31,
   "id": "faf7cade-5b33-4af3-8715-3fb51d1ad38f",
   "metadata": {},
   "outputs": [],
   "source": [
    "# Scale the features\n",
    "scaler = StandardScaler()\n",
    "X_train_scaled = scaler.fit_transform(X_train)\n",
    "X_test_scaled = scaler.transform(X_test)\n"
   ]
  },
  {
   "cell_type": "code",
   "execution_count": 32,
   "id": "f0b4c3a1-c021-49cf-82a7-c0ee7354c433",
   "metadata": {},
   "outputs": [],
   "source": [
    "# Save the encoders and scaler for later use in Flask app\n",
    "with open('label_encoders.pkl', 'wb') as f:\n",
    "    pickle.dump(label_encoders, f)\n",
    "\n",
    "with open('scaler.pkl', 'wb') as f:\n",
    "    pickle.dump(scaler, f)\n",
    "\n",
    "with open('y_encoder.pkl', 'wb') as f:\n",
    "    pickle.dump(y_encoder, f)"
   ]
  },
  {
   "cell_type": "code",
   "execution_count": 33,
   "id": "d2ad68f3-c6fd-4d11-9208-5e47e8862224",
   "metadata": {},
   "outputs": [],
   "source": [
    "# Model training\n",
    "models = {\n",
    "    \"Random Forest\": RandomForestClassifier(n_estimators=100, random_state=42),\n",
    "    \"Logistic Regression\": LogisticRegression(solver='saga', max_iter=1000, random_state=42),\n",
    "    \"Decision Tree\": DecisionTreeClassifier(random_state=42)\n",
    "}\n"
   ]
  },
  {
   "cell_type": "code",
   "execution_count": 34,
   "id": "fd2ef547-de97-4a16-b7ef-b7ea2db43486",
   "metadata": {},
   "outputs": [
    {
     "name": "stdout",
     "output_type": "stream",
     "text": [
      "Random Forest Model Accuracy: 0.98\n",
      "Logistic Regression Model Accuracy: 0.89\n",
      "Decision Tree Model Accuracy: 1.00\n"
     ]
    }
   ],
   "source": [
    "# Evaluate models\n",
    "for name, model in models.items():\n",
    "    model.fit(X_train_scaled, y_train)\n",
    "    y_pred = model.predict(X_test_scaled)\n",
    "    accuracy = accuracy_score(y_test, y_pred)\n",
    "    print(f\"{name} Model Accuracy: {accuracy:.2f}\")"
   ]
  },
  {
   "cell_type": "code",
   "execution_count": 35,
   "id": "cbc437c9-48e1-4321-89b4-d1c24d3f902c",
   "metadata": {},
   "outputs": [],
   "source": [
    "# Save the best model (Decision Tree as an example)\n",
    "with open('decision_tree_model.pkl', 'wb') as f:\n",
    "    pickle.dump(models[\"Decision Tree\"], f)"
   ]
  },
  {
   "cell_type": "code",
   "execution_count": null,
   "id": "7e8dc91d-5a22-46e2-9af8-1db974f7f590",
   "metadata": {},
   "outputs": [
    {
     "name": "stdout",
     "output_type": "stream",
     "text": [
      "Decoded: ['Contact a crisis hotline immediately.', 'Talk to a trusted family member or friend.', 'Remove access to harmful objects or substances.', 'Seek professional mental health support.', 'Engage in mindfulness to calm intrusive thoughts.']\n"
     ]
    },
    {
     "ename": "IndexError",
     "evalue": "index 1 is out of bounds for axis 0 with size 1",
     "output_type": "error",
     "traceback": [
      "\u001b[1;31m---------------------------------------------------------------------------\u001b[0m",
      "\u001b[1;31mIndexError\u001b[0m                                Traceback (most recent call last)",
      "Cell \u001b[1;32mIn[37], line 15\u001b[0m\n\u001b[0;32m     12\u001b[0m decoded_predictions \u001b[38;5;241m=\u001b[39m y_encoder\u001b[38;5;241m.\u001b[39minverse_transform(prediction)\n\u001b[0;32m     14\u001b[0m \u001b[38;5;28;01mfor\u001b[39;00m i \u001b[38;5;129;01min\u001b[39;00m \u001b[38;5;28mrange\u001b[39m(\u001b[38;5;241m5\u001b[39m):  \u001b[38;5;66;03m# Show first 5 predictions\u001b[39;00m\n\u001b[1;32m---> 15\u001b[0m     \u001b[38;5;28mprint\u001b[39m(\u001b[38;5;124mf\u001b[39m\u001b[38;5;124m\"\u001b[39m\u001b[38;5;124mDecoded: \u001b[39m\u001b[38;5;132;01m{\u001b[39;00m\u001b[43mdecoded_predictions\u001b[49m\u001b[43m[\u001b[49m\u001b[43mi\u001b[49m\u001b[43m]\u001b[49m\u001b[38;5;132;01m}\u001b[39;00m\u001b[38;5;124m\"\u001b[39m)\n",
      "\u001b[1;31mIndexError\u001b[0m: index 1 is out of bounds for axis 0 with size 1"
     ]
    }
   ],
   "source": [
    "# Load the trained model\n",
    "import numpy as np\n",
    "\n",
    "with open(\"decision_tree_model.pkl\", \"rb\") as model_file:\n",
    "    model = pickle.load(model_file)\n",
    "\n",
    "# Define a sample input **without column names**\n",
    "sample_input = np.array([[1, 1, 2, 2, 4, 0]])  # Use NumPy array instead of DataFrame\n",
    "\n",
    "# Make a prediction\n",
    "prediction = model.predict(sample_input)\n",
    "decoded_predictions = y_encoder.inverse_transform(prediction)\n",
    "\n",
    "for i in range():  # Show first 5 predictions\n",
    "    print(f\"Decoded: {decoded_predictions[i]}\")"
   ]
  }
 ],
 "metadata": {
  "kernelspec": {
   "display_name": "Python 3",
   "language": "python",
   "name": "python3"
  },
  "language_info": {
   "codemirror_mode": {
    "name": "ipython",
    "version": 3
   },
   "file_extension": ".py",
   "mimetype": "text/x-python",
   "name": "python",
   "nbconvert_exporter": "python",
   "pygments_lexer": "ipython3",
   "version": "3.12.4"
  }
 },
 "nbformat": 4,
 "nbformat_minor": 5
}
